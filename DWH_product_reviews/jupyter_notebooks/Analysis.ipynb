{
 "cells": [
  {
   "cell_type": "code",
   "execution_count": 1,
   "id": "d5fa536f-1c43-487e-acf9-8f89c82a7b88",
   "metadata": {},
   "outputs": [],
   "source": [
    "import pandas as pd\n",
    "from matplotlib import pyplot\n",
    "from sqlalchemy import create_engine\n",
    "import pandas as pd\n",
    "import psycopg2\n",
    "from configparser import ConfigParser\n",
    "\n",
    "config_path=r'/home/jovyan/config/'\n",
    "\n",
    "def config(filename, section):\n",
    "    parser = ConfigParser()\n",
    "    parser.read(filename)\n",
    "    \n",
    "    db = {}\n",
    "    if parser.has_section(section):\n",
    "        params = parser.items(section)\n",
    "        for param in params:\n",
    "            db[param[0]] = param[1]\n",
    "    \n",
    "    return db\n",
    "\n",
    "def get_engine():\n",
    "    param=config(filename=config_path+'database.ini', section='postgresql')\n",
    "    db_uri='postgresql+psycopg2://'+param['user']+':'+param['password']+'@'+param['host']+'/'+param['database']\n",
    "    engine=create_engine(db_uri)\n",
    "    return engine"
   ]
  },
  {
   "cell_type": "markdown",
   "id": "bdeb2f40-71b4-4d34-b68e-ebb7e220144e",
   "metadata": {},
   "source": [
    "# Histogram of Review Ratings\n"
   ]
  },
  {
   "cell_type": "code",
   "execution_count": 2,
   "id": "7bcc7b5e-9b6a-42e6-ae82-53ff9f50c417",
   "metadata": {},
   "outputs": [
    {
     "data": {
      "text/html": [
       "<div>\n",
       "<style scoped>\n",
       "    .dataframe tbody tr th:only-of-type {\n",
       "        vertical-align: middle;\n",
       "    }\n",
       "\n",
       "    .dataframe tbody tr th {\n",
       "        vertical-align: top;\n",
       "    }\n",
       "\n",
       "    .dataframe thead th {\n",
       "        text-align: right;\n",
       "    }\n",
       "</style>\n",
       "<table border=\"1\" class=\"dataframe\">\n",
       "  <thead>\n",
       "    <tr style=\"text-align: right;\">\n",
       "      <th></th>\n",
       "      <th>review_rating</th>\n",
       "      <th>review_cnt</th>\n",
       "    </tr>\n",
       "  </thead>\n",
       "  <tbody>\n",
       "    <tr>\n",
       "      <th>0</th>\n",
       "      <td>3.0</td>\n",
       "      <td>4057</td>\n",
       "    </tr>\n",
       "    <tr>\n",
       "      <th>1</th>\n",
       "      <td>2.0</td>\n",
       "      <td>2566</td>\n",
       "    </tr>\n",
       "    <tr>\n",
       "      <th>2</th>\n",
       "      <td>4.0</td>\n",
       "      <td>8989</td>\n",
       "    </tr>\n",
       "    <tr>\n",
       "      <th>3</th>\n",
       "      <td>1.0</td>\n",
       "      <td>2392</td>\n",
       "    </tr>\n",
       "    <tr>\n",
       "      <th>4</th>\n",
       "      <td>5.0</td>\n",
       "      <td>29246</td>\n",
       "    </tr>\n",
       "  </tbody>\n",
       "</table>\n",
       "</div>"
      ],
      "text/plain": [
       "   review_rating  review_cnt\n",
       "0            3.0        4057\n",
       "1            2.0        2566\n",
       "2            4.0        8989\n",
       "3            1.0        2392\n",
       "4            5.0       29246"
      ]
     },
     "execution_count": 2,
     "metadata": {},
     "output_type": "execute_result"
    }
   ],
   "source": [
    "df_hist_review_rating=pd.read_sql(\"select review_rating,count(*) review_cnt from curated.fact_product_reviews group by review_rating;\",con=get_engine())\n",
    "df_hist_review_rating"
   ]
  },
  {
   "cell_type": "code",
   "execution_count": 3,
   "id": "7bb47436-e0a0-4654-8ed6-6793b3d63085",
   "metadata": {},
   "outputs": [
    {
     "data": {
      "text/plain": [
       "<AxesSubplot:title={'center':'Review Ratings Histogram'}, xlabel='review_rating'>"
      ]
     },
     "execution_count": 3,
     "metadata": {},
     "output_type": "execute_result"
    },
    {
     "data": {
      "image/png": "[encoded data removed]",
      "text/plain": [
       "<Figure size 432x288 with 1 Axes>"
      ]
     },
     "metadata": {
      "needs_background": "light"
     },
     "output_type": "display_data"
    }
   ],
   "source": [
    "df_hist_review_rating.plot(kind='bar',x='review_rating',y='review_cnt',title='Review Ratings Histogram')"
   ]
  },
  {
   "cell_type": "markdown",
   "id": "f040d363-0a39-4efd-bd1b-fc90b78da60d",
   "metadata": {},
   "source": [
    "# Product counts per category and price_bucket"
   ]
  },
  {
   "cell_type": "code",
   "execution_count": 4,
   "id": "818d96ed-11d9-41e1-be75-044b7a516146",
   "metadata": {},
   "outputs": [
    {
     "data": {
      "text/html": [
       "<div>\n",
       "<style scoped>\n",
       "    .dataframe tbody tr th:only-of-type {\n",
       "        vertical-align: middle;\n",
       "    }\n",
       "\n",
       "    .dataframe tbody tr th {\n",
       "        vertical-align: top;\n",
       "    }\n",
       "\n",
       "    .dataframe thead th {\n",
       "        text-align: right;\n",
       "    }\n",
       "</style>\n",
       "<table border=\"1\" class=\"dataframe\">\n",
       "  <thead>\n",
       "    <tr style=\"text-align: right;\">\n",
       "      <th></th>\n",
       "      <th>price_bucket</th>\n",
       "      <th>product_cnt</th>\n",
       "    </tr>\n",
       "  </thead>\n",
       "  <tbody>\n",
       "    <tr>\n",
       "      <th>0</th>\n",
       "      <td>[0-100)$</td>\n",
       "      <td>37358</td>\n",
       "    </tr>\n",
       "    <tr>\n",
       "      <th>1</th>\n",
       "      <td>[100-200)$</td>\n",
       "      <td>1030</td>\n",
       "    </tr>\n",
       "    <tr>\n",
       "      <th>2</th>\n",
       "      <td>[200-300)$</td>\n",
       "      <td>223</td>\n",
       "    </tr>\n",
       "    <tr>\n",
       "      <th>3</th>\n",
       "      <td>[300-400)$</td>\n",
       "      <td>13</td>\n",
       "    </tr>\n",
       "    <tr>\n",
       "      <th>4</th>\n",
       "      <td>[400-500)$</td>\n",
       "      <td>4</td>\n",
       "    </tr>\n",
       "    <tr>\n",
       "      <th>5</th>\n",
       "      <td>[500-600)$</td>\n",
       "      <td>9</td>\n",
       "    </tr>\n",
       "    <tr>\n",
       "      <th>6</th>\n",
       "      <td>[600-700)$</td>\n",
       "      <td>4</td>\n",
       "    </tr>\n",
       "    <tr>\n",
       "      <th>7</th>\n",
       "      <td>[800-900)$</td>\n",
       "      <td>1</td>\n",
       "    </tr>\n",
       "  </tbody>\n",
       "</table>\n",
       "</div>"
      ],
      "text/plain": [
       "  price_bucket  product_cnt\n",
       "0     [0-100)$        37358\n",
       "1   [100-200)$         1030\n",
       "2   [200-300)$          223\n",
       "3   [300-400)$           13\n",
       "4   [400-500)$            4\n",
       "5   [500-600)$            9\n",
       "6   [600-700)$            4\n",
       "7   [800-900)$            1"
      ]
     },
     "execution_count": 4,
     "metadata": {},
     "output_type": "execute_result"
    }
   ],
   "source": [
    "df_product_price_bucket=pd.read_sql(\"select price_bucket,count(*) product_cnt from curated.dim_product p left outer join curated.dim_price_bucket pb on p.price_bucket_id=pb.price_bucket_id group by price_bucket;\",con=get_engine())\n",
    "\n",
    "df_product_price_bucket"
   ]
  },
  {
   "cell_type": "code",
   "execution_count": 5,
   "id": "79ef8a41-06dc-455a-8a53-5172d2a31cf1",
   "metadata": {},
   "outputs": [
    {
     "data": {
      "text/html": [
       "<div>\n",
       "<style scoped>\n",
       "    .dataframe tbody tr th:only-of-type {\n",
       "        vertical-align: middle;\n",
       "    }\n",
       "\n",
       "    .dataframe tbody tr th {\n",
       "        vertical-align: top;\n",
       "    }\n",
       "\n",
       "    .dataframe thead th {\n",
       "        text-align: right;\n",
       "    }\n",
       "</style>\n",
       "<table border=\"1\" class=\"dataframe\">\n",
       "  <thead>\n",
       "    <tr style=\"text-align: right;\">\n",
       "      <th></th>\n",
       "      <th>category</th>\n",
       "      <th>count</th>\n",
       "    </tr>\n",
       "  </thead>\n",
       "  <tbody>\n",
       "    <tr>\n",
       "      <th>0</th>\n",
       "      <td>Books</td>\n",
       "      <td>38594</td>\n",
       "    </tr>\n",
       "    <tr>\n",
       "      <th>1</th>\n",
       "      <td>Movies &amp; TV</td>\n",
       "      <td>26</td>\n",
       "    </tr>\n",
       "    <tr>\n",
       "      <th>2</th>\n",
       "      <td>CDs &amp; Vinyl</td>\n",
       "      <td>7</td>\n",
       "    </tr>\n",
       "    <tr>\n",
       "      <th>3</th>\n",
       "      <td>Sports &amp; Outdoors</td>\n",
       "      <td>6</td>\n",
       "    </tr>\n",
       "    <tr>\n",
       "      <th>4</th>\n",
       "      <td>Musical Instruments</td>\n",
       "      <td>3</td>\n",
       "    </tr>\n",
       "    <tr>\n",
       "      <th>5</th>\n",
       "      <td></td>\n",
       "      <td>3</td>\n",
       "    </tr>\n",
       "    <tr>\n",
       "      <th>6</th>\n",
       "      <td>Clothing, Shoes &amp; Jewelry</td>\n",
       "      <td>2</td>\n",
       "    </tr>\n",
       "    <tr>\n",
       "      <th>7</th>\n",
       "      <td>Toys &amp; Games</td>\n",
       "      <td>1</td>\n",
       "    </tr>\n",
       "  </tbody>\n",
       "</table>\n",
       "</div>"
      ],
      "text/plain": [
       "                    category  count\n",
       "0                      Books  38594\n",
       "1                Movies & TV     26\n",
       "2                CDs & Vinyl      7\n",
       "3          Sports & Outdoors      6\n",
       "4        Musical Instruments      3\n",
       "5                                 3\n",
       "6  Clothing, Shoes & Jewelry      2\n",
       "7               Toys & Games      1"
      ]
     },
     "execution_count": 5,
     "metadata": {},
     "output_type": "execute_result"
    }
   ],
   "source": [
    "df_product_category=pd.read_sql(\"select category,count(*) from curated.dim_product group by category order by 2 desc;\",con=get_engine())\n",
    "\n",
    "df_product_category"
   ]
  },
  {
   "cell_type": "code",
   "execution_count": null,
   "id": "494a6b0c-8ca0-45cd-8270-d4d8e67d124a",
   "metadata": {},
   "outputs": [],
   "source": []
  },
  {
   "cell_type": "code",
   "execution_count": null,
   "id": "cf0bb389-effa-4ab7-93cf-886b8a9b8f65",
   "metadata": {},
   "outputs": [],
   "source": []
  }
 ],
 "metadata": {
  "kernelspec": {
   "display_name": "Python 3 (ipykernel)",
   "language": "python",
   "name": "python3"
  },
  "language_info": {
   "codemirror_mode": {
    "name": "ipython",
    "version": 3
   },
   "file_extension": ".py",
   "mimetype": "text/x-python",
   "name": "python",
   "nbconvert_exporter": "python",
   "pygments_lexer": "ipython3",
   "version": "3.9.12"
  }
 },
 "nbformat": 4,
 "nbformat_minor": 5
}
